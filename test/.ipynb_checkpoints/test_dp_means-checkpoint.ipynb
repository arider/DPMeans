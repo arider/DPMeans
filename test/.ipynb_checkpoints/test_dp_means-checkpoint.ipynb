{
 "cells": [
  {
   "cell_type": "code",
   "execution_count": null,
   "metadata": {},
   "outputs": [
    {
     "name": "stderr",
     "output_type": "stream",
     "text": [
      "┌ Info: Precompiling RDatasets [ce6b1742-4840-55fa-b093-852dadbb1d8b]\n",
      "└ @ Base loading.jl:1260\n"
     ]
    }
   ],
   "source": [
    "using Plots\n",
    "using RDatasets\n",
    "gr()\n"
   ]
  },
  {
   "cell_type": "code",
   "execution_count": null,
   "metadata": {
    "scrolled": false
   },
   "outputs": [],
   "source": [
    "a = rand(MvNormal([5, 5], [[1, .9]  [.9, 1]]), 100)'\n",
    "b = a * [-1 0; 0 1]\n",
    "c = a * [-5 .1; .1 -2]\n",
    "d = a * [-2 .5; .1 -1]\n",
    "e = a * [-.5 0; 0 1] .- [-5 4]\n",
    "f = a * [-.2 .5; .5 -.5] .- [-1 3]\n",
    "\n",
    "# println(\"shapes \", size(a), size(b))\n",
    "data = vcat(a, b, c, d, e, f)\n",
    "println(\"\")\n",
    "gr()\n",
    "scatter(data[:, 1], data[:, 2])\n",
    "# plot!(-collect(1:10) .+ 5, collect(1:10) .- 5)"
   ]
  },
  {
   "cell_type": "code",
   "execution_count": null,
   "metadata": {},
   "outputs": [],
   "source": [
    "model = DPMeans(2)\n",
    "fit!(model, data, 5)\n",
    "labels = get_labels(model, data)\n",
    "\n",
    "scatter(data[:, 1], data[:, 2], color=labels, legend=false)"
   ]
  },
  {
   "cell_type": "code",
   "execution_count": null,
   "metadata": {},
   "outputs": [],
   "source": [
    "# Test more iterations yeilds similar result.\n",
    "model = DPMeans(2)\n",
    "fit!(model, data, 50)\n",
    "labels = get_labels(model, data)\n",
    "\n",
    "scatter(data[:, 1], data[:, 2], color=labels, legend=false)"
   ]
  },
  {
   "cell_type": "code",
   "execution_count": null,
   "metadata": {},
   "outputs": [],
   "source": [
    "# Test higher dimensions.\n",
    "data = dataset(\"datasets\", \"iris\")\n",
    "data = convert(Matrix, data[:, 1:4])\n",
    "\n",
    "model = DPMeans(1)\n",
    "fit!(model, data, 5)\n",
    "labels = get_labels(model, data)\n",
    "\n",
    "scatter(data[:, 1], data[:, 2], color=labels, legend=false)"
   ]
  },
  {
   "cell_type": "code",
   "execution_count": null,
   "metadata": {},
   "outputs": [],
   "source": []
  }
 ],
 "metadata": {
  "kernelspec": {
   "display_name": "Julia 1.4.0",
   "language": "julia",
   "name": "julia-1.4"
  },
  "language_info": {
   "file_extension": ".jl",
   "mimetype": "application/julia",
   "name": "julia",
   "version": "1.4.0"
  }
 },
 "nbformat": 4,
 "nbformat_minor": 2
}
